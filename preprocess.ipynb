{
 "cells": [
  {
   "cell_type": "code",
   "execution_count": null,
   "id": "1650d2d4",
   "metadata": {},
   "outputs": [],
   "source": [
    "# 0. Import libraries\n",
    "import pandas as pd\n",
    "import numpy as np\n",
    "import matplotlib.pyplot as plt\n",
    "import seaborn as sns\n",
    "from sklearn.preprocessing import MinMaxScaler, StandardScaler\n",
    "from sklearn.model_selection import train_test_split\n"
   ]
  },
  {
   "cell_type": "code",
   "execution_count": null,
   "id": "03db2b23",
   "metadata": {},
   "outputs": [],
   "source": [
    "# 1. Read File\n",
    "df = pd.read_csv(\"data.csv\")\n",
    "df.head()\n"
   ]
  },
  {
   "cell_type": "code",
   "execution_count": null,
   "id": "eeac6a90",
   "metadata": {},
   "outputs": [],
   "source": [
    "# 2. Check Types\n",
    "print(df.dtypes)\n"
   ]
  },
  {
   "cell_type": "code",
   "execution_count": null,
   "id": "3192b615",
   "metadata": {},
   "outputs": [],
   "source": [
    "# 3. Handle Types (مثال: تحويل عمود لتاريخ)\n",
    "df[\"date\"] = pd.to_datetime(df[\"date\"], errors=\"coerce\")\n"
   ]
  },
  {
   "cell_type": "code",
   "execution_count": null,
   "id": "23e13b87",
   "metadata": {},
   "outputs": [],
   "source": [
    "# 4. Check Nulls\n",
    "print(df.isnull().sum())\n"
   ]
  },
  {
   "cell_type": "code",
   "execution_count": null,
   "id": "8090f738",
   "metadata": {},
   "outputs": [],
   "source": [
    "# 5. Handle Nulls (تعويض بالقيمة المتوسطة)\n",
    "df[\"column_name\"].fillna(df[\"column_name\"].mean(), inplace=True)\n"
   ]
  },
  {
   "cell_type": "code",
   "execution_count": null,
   "id": "83961636",
   "metadata": {},
   "outputs": [],
   "source": [
    "# 6. Check Outliers (Boxplot)\n",
    "sns.boxplot(x=df[\"column_name\"])\n",
    "plt.show()\n"
   ]
  },
  {
   "cell_type": "code",
   "execution_count": null,
   "id": "5d5e417e",
   "metadata": {},
   "outputs": [],
   "source": [
    "# 7. Handle Outliers (IQR method)\n",
    "Q1 = df[\"column_name\"].quantile(0.25)\n",
    "Q3 = df[\"column_name\"].quantile(0.75)\n",
    "IQR = Q3 - Q1\n",
    "df = df[(df[\"column_name\"] >= Q1 - 1.5*IQR) & (df[\"column_name\"] <= Q3 + 1.5*IQR)]\n"
   ]
  },
  {
   "cell_type": "code",
   "execution_count": null,
   "id": "e3c40968",
   "metadata": {},
   "outputs": [],
   "source": [
    "# 8. Check Duplicates\n",
    "print(df.duplicated().sum())\n"
   ]
  },
  {
   "cell_type": "code",
   "execution_count": null,
   "id": "2254b737",
   "metadata": {},
   "outputs": [],
   "source": [
    "# 9. Handle Duplicates\n",
    "df = df.drop_duplicates()\n"
   ]
  },
  {
   "cell_type": "code",
   "execution_count": null,
   "id": "e13b5338",
   "metadata": {},
   "outputs": [],
   "source": [
    "# 10. Data Visualization (Univariate)\n",
    "df[\"column_name\"].hist()\n",
    "plt.show()\n"
   ]
  },
  {
   "cell_type": "code",
   "execution_count": null,
   "id": "b6d0eaab",
   "metadata": {},
   "outputs": [],
   "source": [
    "# 11. Data Visualization (Bivariate)\n",
    "sns.scatterplot(x=df[\"col1\"], y=df[\"col2\"])\n",
    "plt.show()\n"
   ]
  },
  {
   "cell_type": "code",
   "execution_count": null,
   "id": "481dfc2b",
   "metadata": {},
   "outputs": [],
   "source": [
    "# 12. Data Visualization (Multivariate)\n",
    "sns.heatmap(df.corr(), annot=True, cmap=\"coolwarm\")\n",
    "plt.show()\n"
   ]
  },
  {
   "cell_type": "code",
   "execution_count": null,
   "id": "c89a0704",
   "metadata": {},
   "outputs": [],
   "source": [
    "# 13. Splitting (X, y)\n",
    "X = df.drop(\"target\", axis=1)\n",
    "y = df[\"target\"]\n"
   ]
  },
  {
   "cell_type": "code",
   "execution_count": null,
   "id": "2441b98b",
   "metadata": {},
   "outputs": [],
   "source": [
    "# 14. Normalization\n",
    "scaler = MinMaxScaler()\n",
    "X_scaled = scaler.fit_transform(X)\n"
   ]
  },
  {
   "cell_type": "code",
   "execution_count": null,
   "id": "16c047b4",
   "metadata": {},
   "outputs": [],
   "source": [
    "# 15. Standardization\n",
    "scaler = StandardScaler()\n",
    "X_scaled = scaler.fit_transform(X)\n"
   ]
  },
  {
   "cell_type": "code",
   "execution_count": null,
   "id": "0c05986e",
   "metadata": {},
   "outputs": [],
   "source": [
    "# 16. Data Encoding (OneHot)\n",
    "df = pd.get_dummies(df, columns=[\"categorical_column\"], drop_first=True)\n"
   ]
  },
  {
   "cell_type": "code",
   "execution_count": null,
   "id": "d09bed95",
   "metadata": {},
   "outputs": [],
   "source": [
    "# 17. Save Dataset\n",
    "df.to_csv(\"clean_data.csv\", index=False)\n"
   ]
  },
  {
   "cell_type": "code",
   "execution_count": null,
   "id": "217815b8",
   "metadata": {},
   "outputs": [],
   "source": [
    "# 15. Drop Unimportant Features\n",
    "df = df.drop([\"ID\"], axis=1)\n"
   ]
  }
 ],
 "metadata": {
  "language_info": {
   "name": "python"
  }
 },
 "nbformat": 4,
 "nbformat_minor": 5
}
